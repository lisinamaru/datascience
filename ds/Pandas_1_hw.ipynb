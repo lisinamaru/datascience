{
 "cells": [
  {
   "cell_type": "markdown",
   "id": "e75c4c9b",
   "metadata": {
    "id": "e75c4c9b"
   },
   "source": [
    "# Домашнее задание. Pandas"
   ]
  },
  {
   "cell_type": "code",
   "execution_count": 2,
   "id": "1d065fc9",
   "metadata": {
    "colab": {
     "base_uri": "https://localhost:8080/",
     "height": 597
    },
    "id": "1d065fc9",
    "outputId": "7bb15e93-2bec-4893-8b80-f0b0840b4ffb"
   },
   "outputs": [],
   "source": [
    "import pandas as pd\n",
    "df = pd.read_csv('data/TSLA.csv');"
   ]
  },
  {
   "cell_type": "markdown",
   "id": "501df3a1",
   "metadata": {},
   "source": [
    "1. Вывести все колонки из DataFrame"
   ]
  },
  {
   "cell_type": "code",
   "execution_count": 3,
   "id": "b76abff4",
   "metadata": {},
   "outputs": [
    {
     "data": {
      "text/html": [
       "<div>\n",
       "<style scoped>\n",
       "    .dataframe tbody tr th:only-of-type {\n",
       "        vertical-align: middle;\n",
       "    }\n",
       "\n",
       "    .dataframe tbody tr th {\n",
       "        vertical-align: top;\n",
       "    }\n",
       "\n",
       "    .dataframe thead th {\n",
       "        text-align: right;\n",
       "    }\n",
       "</style>\n",
       "<table border=\"1\" class=\"dataframe\">\n",
       "  <thead>\n",
       "    <tr style=\"text-align: right;\">\n",
       "      <th></th>\n",
       "      <th>Date</th>\n",
       "      <th>Open</th>\n",
       "      <th>High</th>\n",
       "      <th>Low</th>\n",
       "      <th>Close</th>\n",
       "      <th>Adj Close</th>\n",
       "      <th>Volume</th>\n",
       "    </tr>\n",
       "  </thead>\n",
       "  <tbody>\n",
       "    <tr>\n",
       "      <th>0</th>\n",
       "      <td>2010-06-29</td>\n",
       "      <td>19.000000</td>\n",
       "      <td>25.000000</td>\n",
       "      <td>17.540001</td>\n",
       "      <td>23.889999</td>\n",
       "      <td>23.889999</td>\n",
       "      <td>18766300</td>\n",
       "    </tr>\n",
       "    <tr>\n",
       "      <th>1</th>\n",
       "      <td>2010-06-30</td>\n",
       "      <td>25.790001</td>\n",
       "      <td>30.420000</td>\n",
       "      <td>23.299999</td>\n",
       "      <td>23.830000</td>\n",
       "      <td>23.830000</td>\n",
       "      <td>17187100</td>\n",
       "    </tr>\n",
       "    <tr>\n",
       "      <th>2</th>\n",
       "      <td>2010-07-01</td>\n",
       "      <td>25.000000</td>\n",
       "      <td>25.920000</td>\n",
       "      <td>20.270000</td>\n",
       "      <td>21.959999</td>\n",
       "      <td>21.959999</td>\n",
       "      <td>8218800</td>\n",
       "    </tr>\n",
       "    <tr>\n",
       "      <th>3</th>\n",
       "      <td>2010-07-02</td>\n",
       "      <td>23.000000</td>\n",
       "      <td>23.100000</td>\n",
       "      <td>18.709999</td>\n",
       "      <td>19.200001</td>\n",
       "      <td>19.200001</td>\n",
       "      <td>5139800</td>\n",
       "    </tr>\n",
       "    <tr>\n",
       "      <th>4</th>\n",
       "      <td>2010-07-06</td>\n",
       "      <td>20.000000</td>\n",
       "      <td>20.000000</td>\n",
       "      <td>15.830000</td>\n",
       "      <td>16.110001</td>\n",
       "      <td>16.110001</td>\n",
       "      <td>6866900</td>\n",
       "    </tr>\n",
       "    <tr>\n",
       "      <th>...</th>\n",
       "      <td>...</td>\n",
       "      <td>...</td>\n",
       "      <td>...</td>\n",
       "      <td>...</td>\n",
       "      <td>...</td>\n",
       "      <td>...</td>\n",
       "      <td>...</td>\n",
       "    </tr>\n",
       "    <tr>\n",
       "      <th>2411</th>\n",
       "      <td>2020-01-28</td>\n",
       "      <td>568.489990</td>\n",
       "      <td>576.809998</td>\n",
       "      <td>558.080017</td>\n",
       "      <td>566.900024</td>\n",
       "      <td>566.900024</td>\n",
       "      <td>11788500</td>\n",
       "    </tr>\n",
       "    <tr>\n",
       "      <th>2412</th>\n",
       "      <td>2020-01-29</td>\n",
       "      <td>575.690002</td>\n",
       "      <td>589.799988</td>\n",
       "      <td>567.429993</td>\n",
       "      <td>580.989990</td>\n",
       "      <td>580.989990</td>\n",
       "      <td>17801500</td>\n",
       "    </tr>\n",
       "    <tr>\n",
       "      <th>2413</th>\n",
       "      <td>2020-01-30</td>\n",
       "      <td>632.419983</td>\n",
       "      <td>650.880005</td>\n",
       "      <td>618.000000</td>\n",
       "      <td>640.809998</td>\n",
       "      <td>640.809998</td>\n",
       "      <td>29005700</td>\n",
       "    </tr>\n",
       "    <tr>\n",
       "      <th>2414</th>\n",
       "      <td>2020-01-31</td>\n",
       "      <td>640.000000</td>\n",
       "      <td>653.000000</td>\n",
       "      <td>632.520020</td>\n",
       "      <td>650.570007</td>\n",
       "      <td>650.570007</td>\n",
       "      <td>15719300</td>\n",
       "    </tr>\n",
       "    <tr>\n",
       "      <th>2415</th>\n",
       "      <td>2020-02-03</td>\n",
       "      <td>673.690002</td>\n",
       "      <td>786.140015</td>\n",
       "      <td>673.520020</td>\n",
       "      <td>780.000000</td>\n",
       "      <td>780.000000</td>\n",
       "      <td>47065000</td>\n",
       "    </tr>\n",
       "  </tbody>\n",
       "</table>\n",
       "<p>2416 rows × 7 columns</p>\n",
       "</div>"
      ],
      "text/plain": [
       "            Date        Open        High         Low       Close   Adj Close  \\\n",
       "0     2010-06-29   19.000000   25.000000   17.540001   23.889999   23.889999   \n",
       "1     2010-06-30   25.790001   30.420000   23.299999   23.830000   23.830000   \n",
       "2     2010-07-01   25.000000   25.920000   20.270000   21.959999   21.959999   \n",
       "3     2010-07-02   23.000000   23.100000   18.709999   19.200001   19.200001   \n",
       "4     2010-07-06   20.000000   20.000000   15.830000   16.110001   16.110001   \n",
       "...          ...         ...         ...         ...         ...         ...   \n",
       "2411  2020-01-28  568.489990  576.809998  558.080017  566.900024  566.900024   \n",
       "2412  2020-01-29  575.690002  589.799988  567.429993  580.989990  580.989990   \n",
       "2413  2020-01-30  632.419983  650.880005  618.000000  640.809998  640.809998   \n",
       "2414  2020-01-31  640.000000  653.000000  632.520020  650.570007  650.570007   \n",
       "2415  2020-02-03  673.690002  786.140015  673.520020  780.000000  780.000000   \n",
       "\n",
       "        Volume  \n",
       "0     18766300  \n",
       "1     17187100  \n",
       "2      8218800  \n",
       "3      5139800  \n",
       "4      6866900  \n",
       "...        ...  \n",
       "2411  11788500  \n",
       "2412  17801500  \n",
       "2413  29005700  \n",
       "2414  15719300  \n",
       "2415  47065000  \n",
       "\n",
       "[2416 rows x 7 columns]"
      ]
     },
     "execution_count": 3,
     "metadata": {},
     "output_type": "execute_result"
    }
   ],
   "source": [
    "df"
   ]
  },
  {
   "cell_type": "markdown",
   "id": "3ad302dd",
   "metadata": {},
   "source": [
    "2. Посчитать среднюю цену закрытия акций Tesla, в периуд с открытия по 10.01.2012"
   ]
  },
  {
   "cell_type": "code",
   "execution_count": 14,
   "id": "09b0e91d",
   "metadata": {},
   "outputs": [
    {
     "data": {
      "text/plain": [
       "25.649379816537472"
      ]
     },
     "execution_count": 14,
     "metadata": {},
     "output_type": "execute_result"
    }
   ],
   "source": [
    "df[pd.to_datetime(df['Date']) < pd.to_datetime('2012-01-10')]['Close'].mean()"
   ]
  },
  {
   "cell_type": "markdown",
   "id": "37704104",
   "metadata": {},
   "source": [
    "3. Вывести график цены закрытия "
   ]
  },
  {
   "cell_type": "code",
   "execution_count": 15,
   "id": "f421d158",
   "metadata": {},
   "outputs": [
    {
     "data": {
      "text/plain": [
       "<AxesSubplot:>"
      ]
     },
     "execution_count": 15,
     "metadata": {},
     "output_type": "execute_result"
    },
    {
     "data": {
      "image/png": "[encoded data removed]",
      "text/plain": [
       "<Figure size 432x288 with 1 Axes>"
      ]
     },
     "metadata": {
      "needs_background": "light"
     },
     "output_type": "display_data"
    }
   ],
   "source": [
    "df['Close'].plot()"
   ]
  },
  {
   "cell_type": "markdown",
   "id": "c77bf13b",
   "metadata": {},
   "source": [
    "4. Нормализация \n",
    "\n",
    "Сейчас вы научитесь нормализовывать данные. Но сначала я объясню, зачем. <br>\n",
    "\n",
    "Алгоритмы машинного обучения, как правило, работают лучше или сходятся быстрее, когда различные функции (переменные) имеют меньший масштаб. Поэтому перед обучением на них моделей машинного обучения данные обычно нормализуются.\n",
    "\n",
    "Нормализация также делает процесс обучения менее чувствительным к масштабу функций. Это приводит к улучшению коэффициентов после тренировки.\n",
    "\n",
    "Этот процесс повышения пригодности функций для обучения путем изменения масштаба называется масштабированием функций.\n",
    "\n",
    "Вот формула, которую часто применяют для нормализации значений одного столбца:\n",
    "$$ x_{norm} = \\frac{x - x_{min}}{x_{max} - x_{min}}, $$\n",
    "где, понятное дело x - значение в конкретной строке выбранного столбца, xmax - максимальное значение этого столбца, а xmin - минимальное значение этого столбца.\n",
    "\n",
    "Примените эту формулу к столбцу Open (используйте метод apply)."
   ]
  },
  {
   "cell_type": "code",
   "execution_count": 16,
   "id": "7e23d7e5",
   "metadata": {},
   "outputs": [
    {
     "data": {
      "text/plain": [
       "0       0.004349\n",
       "1       0.014676\n",
       "2       0.013474\n",
       "3       0.010433\n",
       "4       0.005870\n",
       "          ...   \n",
       "2411    0.840012\n",
       "2412    0.850962\n",
       "2413    0.937237\n",
       "2414    0.948764\n",
       "2415    1.000000\n",
       "Name: Open, Length: 2416, dtype: float64"
      ]
     },
     "execution_count": 16,
     "metadata": {},
     "output_type": "execute_result"
    }
   ],
   "source": [
    "df['Open'].apply(lambda x: (x - df['Open'].min()) / (df['Open'].max() - df['Open'].min()))"
   ]
  },
  {
   "cell_type": "markdown",
   "id": "c5843e04",
   "metadata": {},
   "source": [
    "5. Что такое SMA (Simple Moving Average) с окном 12,15,30. \n",
    "Можно посмотреть внешние решения: \n",
    "- https://www.pythonpool.com/moving-average-python/   \n",
    "- https://mrjbq7.github.io/ta-lib/"
   ]
  },
  {
   "cell_type": "code",
   "execution_count": 17,
   "id": "335d37f6",
   "metadata": {},
   "outputs": [
    {
     "data": {
      "text/plain": [
       "0              NaN\n",
       "1              NaN\n",
       "2              NaN\n",
       "3              NaN\n",
       "4              NaN\n",
       "           ...    \n",
       "2411    469.665002\n",
       "2412    477.085002\n",
       "2413    485.728668\n",
       "2414    494.781335\n",
       "2415    507.676336\n",
       "Name: Close, Length: 2416, dtype: float64"
      ]
     },
     "execution_count": 17,
     "metadata": {},
     "output_type": "execute_result"
    }
   ],
   "source": [
    "df['Close'].rolling(window=12).mean()\n",
    "df['Close'].rolling(window=15).mean()\n",
    "df['Close'].rolling(window=30).mean()"
   ]
  },
  {
   "cell_type": "markdown",
   "id": "7d9e1927",
   "metadata": {},
   "source": [
    "6. Построить график с ценой закрытия и посчитаным SMA 12,15,30"
   ]
  },
  {
   "cell_type": "code",
   "execution_count": 21,
   "id": "60d8d2ff",
   "metadata": {},
   "outputs": [
    {
     "data": {
      "text/plain": [
       "<AxesSubplot:>"
      ]
     },
     "execution_count": 21,
     "metadata": {},
     "output_type": "execute_result"
    },
    {
     "data": {
      "image/png": "[encoded data removed]",
      "text/plain": [
       "<Figure size 432x288 with 1 Axes>"
      ]
     },
     "metadata": {
      "needs_background": "light"
     },
     "output_type": "display_data"
    }
   ],
   "source": [
    "df['Close'].plot()\n",
    "df['Close'].rolling(window=12).mean().plot()\n",
    "df['Close'].rolling(window=15).mean().plot()\n",
    "df['Close'].rolling(window=30).mean().plot()"
   ]
  },
  {
   "cell_type": "markdown",
   "id": "224980ab",
   "metadata": {},
   "source": [
    "7. Посмотрите на график и подумайте, о чем говорит SMA. Когда стоит начать покупать/продавать акции Tesla?"
   ]
  },
  {
   "cell_type": "markdown",
   "id": "e1ca331e",
   "metadata": {},
   "source": [
    "SMA позволяет сгладить числовой ряд в смысле краткосрочных колебаний и выделить основные тенденции ряда.\n",
    "Акции Tesla, как и любые другие акции, стоит покупать подешевле, продавать подороже. Мутный вопрос, но, наверное, имеется в виду, что стоит покупать, когда SMA в локальном минимуме, продавать -- когда в локальном максимуме "
   ]
  }
 ],
 "metadata": {
  "colab": {
   "collapsed_sections": [
    "36396f4c"
   ],
   "name": "Pandas_1.ipynb",
   "provenance": []
  },
  "kernelspec": {
   "display_name": "Python 3 (ipykernel)",
   "language": "python",
   "name": "python3"
  },
  "language_info": {
   "codemirror_mode": {
    "name": "ipython",
    "version": 3
   },
   "file_extension": ".py",
   "mimetype": "text/x-python",
   "name": "python",
   "nbconvert_exporter": "python",
   "pygments_lexer": "ipython3",
   "version": "3.10.2"
  }
 },
 "nbformat": 4,
 "nbformat_minor": 5
}

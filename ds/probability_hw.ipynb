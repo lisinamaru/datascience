{
 "cells": [
  {
   "cell_type": "markdown",
   "id": "261bb71a",
   "metadata": {},
   "source": [
    "# Домашнее задание. Вероятности"
   ]
  },
  {
   "cell_type": "markdown",
   "id": "964f26e6",
   "metadata": {},
   "source": [
    "1. Один самолет вылетел из Москвы, и должен совершить посадку в 5 городах. Необходимо узнать, количество городов, в котрых может приземлиться в первый, второй, третий город."
   ]
  },
  {
   "cell_type": "code",
   "execution_count": null,
   "id": "59f2a57b",
   "metadata": {},
   "outputs": [],
   "source": [
    "# Начните писать код тут "
   ] def factorial(n):
    if n == 1: return 1
    else: return n * factorial(n-1)
factorial(5)/factorial(5-3)]
  },
  {
   "cell_type": "markdown",
   "id": "d8ba96f1",
   "metadata": {},
   "source": [
    "2. Осьминог Пауль 16 раз пробовал угадать победителя футбольного матча. 14 раз он угадал правильно, 2 раза ошибся. Проверьте гипотезу H0: Пауль выбирает победителя футбольного матча случайно. Сделайте вывод. (сложная задача)"
   ]
  },
  {
   "cell_type": "code",
   "execution_count": null,
   "id": "9c02008f",
   "metadata": {},
   "outputs": [],
   "source": [
    "# Начните писать код тут "
   ]
  import random
k=0
results=[2, 1, 1, 2, 2, 1, 2, 1, 1, 1, 2, 1, 1, 2, 2, 1]
#Результаты матчей по условию задачи величины реальные, так что считаю их заранее известными#
def prognoz(n):
    data = []
    while len(data) <n:
        data.append(random.randint(1,2))
    return data
prognoz_data=prognoz(16)
#Рандомно заполняет список 16-тью значениями-предсказаниями#
for j in range(0,100):
    for i in range(0,15):
        if results[i]==prognoz_data[i]:
            k+=1
    print(j,k)
    k=0
    prognoz_data=prognoz(16)
 ],
 "metadata": {
  "kernelspec": {
   "display_name": "Python 3",
   "language": "python",
   "name": "python3"
  },
  "language_info": {
   "codemirror_mode": {
    "name": "ipython",
    "version": 3
   },
   "file_extension": ".py",
   "mimetype": "text/x-python",
   "name": "python",
   "nbconvert_exporter": "python",
   "pygments_lexer": "ipython3",
   "version": "3.10.2"
  }
 },
 "nbformat": 4,
 "nbformat_minor": 5
}
